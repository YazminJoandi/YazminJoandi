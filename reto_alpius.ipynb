{
  "nbformat": 4,
  "nbformat_minor": 0,
  "metadata": {
    "colab": {
      "provenance": [],
      "authorship_tag": "ABX9TyMsjZkGHOXpe66uWH6dpPLD",
      "include_colab_link": true
    },
    "kernelspec": {
      "name": "python3",
      "display_name": "Python 3"
    },
    "language_info": {
      "name": "python"
    }
  },
  "cells": [
    {
      "cell_type": "markdown",
      "metadata": {
        "id": "view-in-github",
        "colab_type": "text"
      },
      "source": [
        "<a href=\"https://colab.research.google.com/github/YazminJoandi/YazminJoandi/blob/main/reto_alpius.ipynb\" target=\"_parent\"><img src=\"https://colab.research.google.com/assets/colab-badge.svg\" alt=\"Open In Colab\"/></a>"
      ]
    },
    {
      "cell_type": "code",
      "execution_count": 18,
      "metadata": {
        "colab": {
          "base_uri": "https://localhost:8080/"
        },
        "id": "t8KFovLKoiYp",
        "outputId": "f7082b89-d45a-4583-c1fb-775e99241659"
      },
      "outputs": [
        {
          "output_type": "stream",
          "name": "stdout",
          "text": [
            "1\n",
            "2\n",
            "fizz\n",
            "4\n",
            "buzz\n",
            "fizz\n",
            "7\n",
            "8\n",
            "fizz\n",
            "buzz\n",
            "11\n",
            "fizz\n",
            "13\n",
            "14\n",
            "fizz\n",
            "16\n",
            "17\n",
            "fizz\n",
            "19\n"
          ]
        }
      ],
      "source": [
        "for i in range(1,20):\n",
        "  if  i % 3 == 0:\n",
        "    print (\"fizz\")\n",
        "\n",
        "  elif i  % 5 == 0:\n",
        "    print (\"buzz\")\n",
        "\n",
        "  elif  i % 3 == 0 and i % 5 == 0:\n",
        "    print (\"fizzbuzz\")\n",
        "\n",
        "  else: print (i)"
      ]
    },
    {
      "cell_type": "markdown",
      "source": [
        "guess my number"
      ],
      "metadata": {
        "id": "1Vr7cqNj07_l"
      }
    },
    {
      "cell_type": "code",
      "source": [
        "import random\n",
        "\n",
        "def guess_my_number():\n",
        "  number = random.randint(1,100)\n",
        "  guess = int (input/(\"adivina un número entre 1 y 100\"))\n",
        "\n",
        "  lower_bound = 1\n",
        "  upper_bound = 100\n",
        "  numero_a_adivinar = ramdom.randint(lower_bound,upper_bound)\n",
        "\n",
        "  attempts = 3\n",
        "\n",
        "  print(f\"Adivina un número entre {lower_bound} y {upper_bound}. Adivinalo en 3 intentos\"))\n",
        "\n",
        "  while\n",
        "\n"
      ],
      "metadata": {
        "id": "tqrov5XH03cB"
      },
      "execution_count": null,
      "outputs": []
    }
  ]
}